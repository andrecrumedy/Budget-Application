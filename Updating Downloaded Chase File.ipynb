{
 "cells": [
  {
   "attachments": {},
   "cell_type": "markdown",
   "metadata": {},
   "source": [
    "Known Bugs\n",
    "- If split is done on most recent tranction, program will not identify last transaction"
   ]
  },
  {
   "attachments": {},
   "cell_type": "markdown",
   "metadata": {},
   "source": [
    "Penidng Updates\n",
    "- Deleting chase file"
   ]
  },
  {
   "attachments": {},
   "cell_type": "markdown",
   "metadata": {},
   "source": [
    "## <ins> Library Imports"
   ]
  },
  {
   "cell_type": "code",
   "execution_count": null,
   "metadata": {},
   "outputs": [],
   "source": [
    "display('<-------------------------Importing Libraries and Configuring Settings------------------------->')\n",
    "\n",
    "import xlwings as xw\n",
    "import warnings\n",
    "import sys\n",
    "\n",
    "# xw.Range(\"a1\").value = \"NO\"\n",
    "\n",
    "import pandas as pd # version 2.0.3\n",
    "import numpy as np \n",
    "import os\n",
    "from datetime import datetime\n",
    "\n",
    "warnings.simplefilter('ignore')\n",
    "# pd.reset_option(\"all\")\n",
    "\n",
    "#     pd.set_option('display.max_rows', None)\n",
    "#     pd.set_option('display.max_columns', None)\n",
    "\n",
    "pd.set_option('display.max_colwidth', None)"
   ]
  },
  {
   "attachments": {},
   "cell_type": "markdown",
   "metadata": {},
   "source": [
    "## <ins> Computation Functions"
   ]
  },
  {
   "cell_type": "code",
   "execution_count": null,
   "metadata": {},
   "outputs": [],
   "source": [
    "def Compute_PayPeriod(PostDate):\n",
    "    PostDate = pd.to_datetime(PostDate)\n",
    "    if PostDate.day >= 15:\n",
    "        return datetime(year=PostDate.year, month=PostDate.month, day= 15) \n",
    "    else:\n",
    "        return datetime(year=PostDate.year, month=PostDate.month, day= 1)"
   ]
  },
  {
   "attachments": {},
   "cell_type": "markdown",
   "metadata": {},
   "source": [
    "## <ins> Current Transactions Table"
   ]
  },
  {
   "attachments": {},
   "cell_type": "markdown",
   "metadata": {},
   "source": [
    "<font color='blue'> \n",
    "**Importing Current Transactions Income and Expense Tables  \n",
    "    Drop Pending Records in Ncome and Expense Tables  \n",
    "    Last Balance Amount and Last Posting Date  \n",
    "    Displays** \n",
    "<font color='black'>\n",
    "- Using the Active Sheet To Find Workbook"
   ]
  },
  {
   "cell_type": "code",
   "execution_count": null,
   "metadata": {},
   "outputs": [],
   "source": [
    "display('<-------------------------Importing and Scubbing Current Transactions------------------------->')\n",
    "zPending = 'z-Pending'\n",
    "shtTrans = xw.sheets('Transactions')"
   ]
  },
  {
   "cell_type": "code",
   "execution_count": null,
   "metadata": {},
   "outputs": [],
   "source": [
    "ExpenseTbl = shtTrans.tables[\"Table22\"].range\n",
    "NcomeTbl = shtTrans.tables[\"Table26\"].range\n",
    "ETransactions = shtTrans.range(ExpenseTbl.address).options(pd.DataFrame, header=1, index=False).value\n",
    "NTransactions = shtTrans.range(NcomeTbl.address).options(pd.DataFrame, header=1, index=False).value\n",
    "# display(NTransactions)\n",
    "E_Pending = ETransactions[ETransactions['Description'].str.contains(zPending)]\n",
    "N_Pending = NTransactions[NTransactions['Description'].str.contains(zPending)]"
   ]
  },
  {
   "cell_type": "code",
   "execution_count": null,
   "metadata": {
    "scrolled": true
   },
   "outputs": [],
   "source": [
    "for df in [E_Pending, N_Pending]:\n",
    "    df['Description'] = df['Description'].str[20:-4].str.strip().replace([\"\\s+\"], ' ', regex = True)\n",
    "    df.drop('Posting Date', axis='columns', inplace=True)\n",
    "    df['Description'].replace({'\\*':'',\"\\s+\":' '}, regex=True, inplace=True)"
   ]
  },
  {
   "cell_type": "code",
   "execution_count": null,
   "metadata": {
    "scrolled": true
   },
   "outputs": [],
   "source": [
    "# E_Pending['Description'].replace('\\*','', regex=True)"
   ]
  },
  {
   "cell_type": "code",
   "execution_count": null,
   "metadata": {
    "scrolled": true
   },
   "outputs": [],
   "source": [
    "E_Pending_dict = E_Pending.to_dict('index')\n",
    "N_Pending_dict = N_Pending.to_dict('index')"
   ]
  },
  {
   "cell_type": "code",
   "execution_count": null,
   "metadata": {},
   "outputs": [],
   "source": [
    "# display(NTransactions)\n"
   ]
  },
  {
   "cell_type": "code",
   "execution_count": null,
   "metadata": {},
   "outputs": [],
   "source": [
    "N_Pending"
   ]
  },
  {
   "cell_type": "code",
   "execution_count": null,
   "metadata": {},
   "outputs": [],
   "source": [
    "eList = E_Pending.index.to_list()\n",
    "nList = N_Pending.index.to_list()\n",
    "\n",
    "for df, lst in zip([ETransactions, NTransactions], [eList, nList]):\n",
    "    df.drop(lst, axis='index', inplace=True)\n",
    "    df.reset_index(drop=True, inplace=True)\n",
    "\n",
    "LastPostDate = max(ETransactions['Posting Date'].max(), NTransactions['Posting Date'].max())\n",
    "LastBalance = float(shtTrans.range('CBalance').value)\n",
    "\n",
    "display('Last Posting Date: ' + LastPostDate.strftime('%m/%d/%y'),'Last Balance: ' + str(LastBalance))\n",
    "display('Showing Below Expense Table (without Pending)', ETransactions.head(), \\\n",
    "        'Showing Below Income Table (without Pending)', NTransactions.head())"
   ]
  },
  {
   "attachments": {},
   "cell_type": "markdown",
   "metadata": {},
   "source": [
    "## <ins> New Transactions Table Part 1"
   ]
  },
  {
   "attachments": {},
   "cell_type": "markdown",
   "metadata": {},
   "source": [
    "<font color='blue'> \n",
    " **Import Updated Transactions  using file name in current folder and todays date  \n",
    "    Datatype transformations  \n",
    "    Identify Last Inserted Record (assuming it is in dataset)  \n",
    "    Identify New Balance  \n",
    "    Pre-fix new Transactions with 'z-Pending'  \n",
    "    Pull Needed Columns  \n",
    "    Remove White Space and Special Characters  \n",
    "    Displays**"
   ]
  },
  {
   "cell_type": "code",
   "execution_count": null,
   "metadata": {},
   "outputs": [],
   "source": [
    "display('<-------------------------Importing and Scubbing New Transactions------------------------->')\n",
    "CurrentDateTime = datetime.now()\n",
    "ChaseFile = 'Chase2517_Activity_' + CurrentDateTime.strftime('%Y%m%d') + '.CSV' \n",
    "NewTrans = pd.read_csv(ChaseFile, header = 0, index_col=False)\n",
    "\n",
    "NewTrans['Balance'] = pd.to_numeric(NewTrans['Balance'], errors='coerce')\n",
    "NewTrans['Posting Date'] = pd.to_datetime(NewTrans['Posting Date'], errors='coerce')\n",
    "\n",
    "LastInserted = NewTrans[(NewTrans['Balance'] == LastBalance) & (NewTrans['Posting Date'] == LastPostDate)]"
   ]
  },
  {
   "cell_type": "code",
   "execution_count": null,
   "metadata": {
    "scrolled": true
   },
   "outputs": [],
   "source": [
    "if LastInserted.empty or NewTrans.empty: \n",
    "    sys.exit()\n",
    "else:\n",
    "    NewTrans = NewTrans.iloc[:LastInserted.index.min()]    \n",
    "\n",
    "if NewTrans['Balance'].any() or NewTrans.empty:\n",
    "    NewBalance = NewTrans[pd.isnull(NewTrans['Balance']) == False].iloc[:1]['Balance'].values[0]\n",
    "else:\n",
    "    NewBalance = LastBalance"
   ]
  },
  {
   "cell_type": "code",
   "execution_count": null,
   "metadata": {},
   "outputs": [],
   "source": [
    "LastPostDate"
   ]
  },
  {
   "cell_type": "code",
   "execution_count": null,
   "metadata": {
    "scrolled": true
   },
   "outputs": [],
   "source": [
    "NewTrans['Description'][pd.isnull(NewTrans['Balance'])] = 'z-Pending' + NewTrans['Description'][pd.isnull(NewTrans['Balance'])]\n",
    "\n",
    "cols = ['Posting Date', 'Description', 'Amount']\n",
    "NewTrans = NewTrans[cols]\n",
    "NewTrans['Description'].replace({'\\*':'',\"\\s+\":' '}, regex=True, inplace=True)\n",
    "\n",
    "display('New Balance: ' + str(NewBalance), 'Downloaded Transactions For Today', NewTrans.head(),'Data Types', NewTrans.dtypes)"
   ]
  },
  {
   "cell_type": "code",
   "execution_count": null,
   "metadata": {},
   "outputs": [],
   "source": [
    "NewTrans"
   ]
  },
  {
   "attachments": {},
   "cell_type": "markdown",
   "metadata": {},
   "source": [
    "## <ins> New Transactions Table Part 2"
   ]
  },
  {
   "attachments": {},
   "cell_type": "markdown",
   "metadata": {},
   "source": [
    "<font color='blue'>  \n",
    "**Adding in Pay Period, Category, and Sub-Cateogry  \n",
    "   Read in Auto tag using active sheet to identify workbook and corresponding dictionary structure  \n",
    "  Adding in Category and Sub-Category using dictionary structure  \n",
    "  Separate Expenses versus income  \n",
    "    Order Columns  \n",
    "    Display Columns** \n",
    "<font color='black'>\n"
   ]
  },
  {
   "cell_type": "code",
   "execution_count": null,
   "metadata": {},
   "outputs": [],
   "source": [
    "# NewTrans\n",
    "# Temp\n",
    "# NewTrans.loc[Temp.index.to_list(), col]\n",
    "# catch\n",
    "# dct[catch][col]\n",
    "# dct\n",
    "# E_Pending_dict\n",
    "# Autotag_dict"
   ]
  },
  {
   "cell_type": "code",
   "execution_count": null,
   "metadata": {},
   "outputs": [],
   "source": [
    "display('<-------------------------Importing and Scubbing New Transactions Part 2------------------------->')\n",
    "NewTrans['Pay Period'] = NewTrans['Posting Date'].apply(Compute_PayPeriod)\n",
    "NewTrans['Category'] = np.nan\n",
    "NewTrans['Sub-Category'] = np.nan\n",
    "\n",
    "shtTag = xw.sheets('Autotag')\n",
    "Autotag = shtTag.range('a1').expand().options(pd.DataFrame, header=1, index=1).value\n",
    "Autotag_dict = Autotag.to_dict('index')\n",
    "\n",
    "\n",
    "    \n",
    "for dct in [E_Pending_dict, N_Pending_dict]:\n",
    "    for catch in dct:\n",
    "        Temp = NewTrans.loc[:,['Category', 'Sub-Category', 'Pay Period']][(NewTrans['Description'].str.lower().str.contains(dct[catch]['Description'].lower())) & (pd.isnull(NewTrans['Category'])) & (NewTrans['Amount'] == dct[catch]['Amount'])]\n",
    "        if not Temp.empty:\n",
    "            for col in ['Category', 'Sub-Category', 'Pay Period']:\n",
    "                try:\n",
    "                    NewTrans.loc[Temp.index.to_list(), col] = dct[catch][col]                        \n",
    "                except:\n",
    "                    pass\n",
    "\n",
    "for col in ['Category', 'Sub-Category']:\n",
    "    for catch in Autotag_dict.keys():\n",
    "        NewTrans.loc[:,col][(NewTrans['Description'].str.lower().str.contains(catch.lower())) & (pd.isnull(NewTrans[col]))] = Autotag_dict[catch][col]    \n",
    "\n",
    "NewTrans['Description'].replace({'\\*':'',\"\\s+\":' '}, regex = True, inplace=True)\n",
    "\n",
    "NewTrans['Description'][pd.isnull(NewTrans['Category']) == False] += ' (A)'\n",
    "NewTransExpse = NewTrans[NewTrans['Amount'] <= 0]\n",
    "NewTransNcome = NewTrans[NewTrans['Amount'] > 0]\n",
    "\n",
    "cols = ['Pay Period', 'Posting Date', 'Description', 'Amount', 'Category', 'Sub-Category']\n",
    "cols2 = ['Pay Period', 'Posting Date', 'Description', 'Amount', 'Category']\n",
    "NewTransExpse = NewTransExpse[cols]\n",
    "NewTransNcome = NewTransNcome[cols2]\n",
    "\n",
    "display('New Expense Trans READY, ' + str(len(NewTransExpse)) + ' NewRecords',NewTransExpse.head())\n",
    "display('New Ncome Trans READY, ' + str(len(NewTransNcome)) + ' NewRecords',NewTransNcome.head())"
   ]
  },
  {
   "cell_type": "code",
   "execution_count": null,
   "metadata": {},
   "outputs": [],
   "source": [
    "# NewTransExpse"
   ]
  },
  {
   "attachments": {},
   "cell_type": "markdown",
   "metadata": {},
   "source": [
    "## <ins> Updating Current Transaction With New Transactions"
   ]
  },
  {
   "attachments": {},
   "cell_type": "markdown",
   "metadata": {},
   "source": [
    "<font color='blue'>  \n",
    "**Identify Space For New Records  \n",
    "    Delete old records, Add Space, Insert New Records**  \n",
    "<font color='blue'>\n",
    "**Update Current Balance**"
   ]
  },
  {
   "cell_type": "code",
   "execution_count": null,
   "metadata": {},
   "outputs": [],
   "source": [
    "if NewTrans.empty:\n",
    "    display('<-----------------------------------NO NEW TRANSACTIONS----------------------------------------->')\n",
    "else:\n",
    "#     Update_Current_Transaction_With_New()\n",
    "    display('<-------------------------Updating Current Transactions With New Transactions------------------------->')\n",
    "    NewRecords = shtTrans.range(NcomeTbl(2,1).address,NcomeTbl(len(NewTransNcome)+1,len(NewTransNcome.columns)).address)\n",
    "\n",
    "    for tbl, dList, New in zip([ExpenseTbl, NcomeTbl], [eList, nList], [NewTransExpse, NewTransNcome]):\n",
    "        if len(dList) != 0:\n",
    "            shtTrans.range(tbl(2,1).address,tbl(len(dList)+1,len(New.columns)).address).delete(shift='up')\n",
    "\n",
    "        if len(New) != 0:\n",
    "            NewRecords = shtTrans.range(tbl(2,1).address,tbl(len(New)+1,len(New.columns)).address)\n",
    "            NewRecords.insert(shift = 'down', copy_origin='format_from_right_or_below')\n",
    "\n",
    "            NewRecords = shtTrans.range(tbl(1,1).address,tbl(len(New)+1,len(New.columns)).address)\n",
    "            shtTrans.range(tbl(len(New)+2,1).address, tbl(len(New)+2,len(New.columns)).address).color = (169, 208, 142)\n",
    "            NewRecords.color = None\n",
    "            NewRecords.options(pd.DataFrame,header=1, index=False).value = New"
   ]
  },
  {
   "cell_type": "code",
   "execution_count": null,
   "metadata": {},
   "outputs": [],
   "source": [
    "shtTrans.range('CBalance').value = NewBalance"
   ]
  },
  {
   "cell_type": "code",
   "execution_count": null,
   "metadata": {},
   "outputs": [],
   "source": [
    "# Autotag_dict\n",
    "# Autotag"
   ]
  },
  {
   "cell_type": "code",
   "execution_count": null,
   "metadata": {},
   "outputs": [],
   "source": []
  },
  {
   "cell_type": "code",
   "execution_count": null,
   "metadata": {},
   "outputs": [],
   "source": []
  }
 ],
 "metadata": {
  "kernelspec": {
   "display_name": "Python 3 (ipykernel)",
   "language": "python",
   "name": "python3"
  },
  "language_info": {
   "codemirror_mode": {
    "name": "ipython",
    "version": 3
   },
   "file_extension": ".py",
   "mimetype": "text/x-python",
   "name": "python",
   "nbconvert_exporter": "python",
   "pygments_lexer": "ipython3",
   "version": "3.11.4"
  }
 },
 "nbformat": 4,
 "nbformat_minor": 4
}
